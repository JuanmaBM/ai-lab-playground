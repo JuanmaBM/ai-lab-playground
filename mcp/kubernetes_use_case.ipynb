{
 "cells": [
  {
   "cell_type": "markdown",
   "id": "1363d0a4",
   "metadata": {},
   "source": [
    "## Initialize the Agent"
   ]
  },
  {
   "cell_type": "code",
   "execution_count": null,
   "id": "e082bd11",
   "metadata": {},
   "outputs": [],
   "source": [
    "import os\n",
    "\n",
    "from llama_stack_client import Agent, AgentEventLogger\n",
    "from llama_stack.distribution.library_client import LlamaStackAsLibraryClient\n",
    "from llama_stack_client.types.toolgroup_register_params import McpEndpoint\n",
    "\n",
    "\n",
    "model = \"llama3.2:3b-instruct-fp16\"\n",
    "os.environ[\"INFERENCE_MODEL\"] = model\n",
    "client = LlamaStackAsLibraryClient('ollama')\n",
    "client.initialize()\n",
    "\n",
    "\n",
    "client.toolgroups.register(\n",
    "    toolgroup_id=\"mcp::custom\",\n",
    "    provider_id=\"model-context-protocol\",\n",
    "    mcp_endpoint=McpEndpoint(uri=\"http://127.0.0.1:5000/sse\"),\n",
    ")\n",
    "\n",
    "instructions=\"\"\"\n",
    "You are a smart assistant that helps users with his questions.\n",
    "You have differents available tools and you must use to retrieve information or perform actions.\n",
    "You must not generate code or scripts.\n",
    "Use the tool to interact with differents system.\n",
    "No simulate the output, perform all operations with tools available.\n",
    "You are not allowed to infer or hallucinate any answer.\n",
    "You must use the kube_command tool to execute all kubectl commands.\n",
    "If the command fails, then show the error and stop the execution.\n",
    "\n",
    "You must interact with the Kubernetes cluster **only** via the `kube_command` tool. Never fabricate results. Every action must be performed by calling the tool.\n",
    "\n",
    "When applying manifests, never use heredocs (`<<EOF`). Instead, use the following pattern:\n",
    "\n",
    "echo \"<full YAML manifest>\" | kubectl apply -f -\n",
    "\n",
    "Avoid summarizing or simulating command outputs. Only describe what you're doing **before** issuing the tool call. Let the tool return the actual result.\n",
    "\n",
    "Output only valid `kube_command(cmd=...)` calls, nothing else.\n",
    "\n",
    "The available tools are:\n",
    "- kube_command(cmd)\n",
    "// You have to explicity add the entire command with kubectl\n",
    "// example: kubectl get pods\n",
    "\"\"\"\n",
    "\n",
    "optimized_instructions = \"\"\"\n",
    "You are a smart assistant that helps users with his questions.\n",
    "You have differents available tools and you must use to retrieve information or perform actions.\n",
    "You must not generate code or scripts.\n",
    "No simulate the output, perform all operations with tools available.\n",
    "You are force to use kube_command tool to create resources in kubernetes, so if the user ask create something you MUST use the tool.\n",
    "Not use yaml to create resources, Just use kubectl commands\n",
    "You have to add kubectl in the commands you pass to kubec_command tool, for instance kubectl get pods \n",
    "\"\"\"\n",
    "\n",
    "agent = Agent(\n",
    "  client,\n",
    "  model=model,\n",
    "  instructions=optimized_instructions,\n",
    "  tools=[\"mcp::custom\"],\n",
    "  sampling_params={\n",
    "    \"strategy\": {\"type\": \"top_p\", \"temperature\": 0.2, \"top_p\": 0.9},\n",
    "  },\n",
    ")\n",
    "session_id = agent.create_session('new_session')"
   ]
  },
  {
   "cell_type": "markdown",
   "id": "551d77e6",
   "metadata": {},
   "source": [
    "## Executing a task with explicit instructions"
   ]
  },
  {
   "cell_type": "code",
   "execution_count": null,
   "id": "020f7772",
   "metadata": {},
   "outputs": [],
   "source": [
    "\n",
    "\n",
    "prompt = \"Use the kube_command to execute `kubectl get pods -A`. Show me the output\"\n",
    "print(\"prompt>\", prompt)\n",
    "\n",
    "response = agent.create_turn(\n",
    "  messages=[{\"role\": \"user\", \"content\": prompt}],\n",
    "  session_id=session_id,\n",
    ")\n",
    "\n",
    "for log in AgentEventLogger().log(response):\n",
    "    log.print()"
   ]
  },
  {
   "cell_type": "markdown",
   "id": "ae571ef3",
   "metadata": {},
   "source": [
    "## Executing a simple task leaves it to the LLM’s interpretation"
   ]
  },
  {
   "cell_type": "code",
   "execution_count": null,
   "id": "2223b52f",
   "metadata": {},
   "outputs": [],
   "source": [
    "prompt = \"Create a new namespace called mcp-tests.\"\n",
    "print(\"prompt>\", prompt)\n",
    "\n",
    "response = agent.create_turn(\n",
    "  messages=[{\"role\": \"user\", \"content\": prompt}],\n",
    "  session_id=session_id,\n",
    ")\n",
    "\n",
    "for log in AgentEventLogger().log(response):\n",
    "    log.print()"
   ]
  },
  {
   "cell_type": "markdown",
   "id": "6e5fabd8",
   "metadata": {},
   "source": [
    "## Executing multiples tasks"
   ]
  },
  {
   "cell_type": "code",
   "execution_count": null,
   "id": "42eaba81",
   "metadata": {},
   "outputs": [],
   "source": [
    "prompt = \"Deploy the hashicorp/http-echo:latest service in mcp-tests namespace. It should be accessible from outside cluster. Then use the yaml created and call the kube_cmd tool to create the resources in the cluster. I don't want the yaml I want you use the kube_cmd tool to create the resources. You are force to call the tool\"\n",
    "\n",
    "print(\"prompt>\", prompt)\n",
    "\n",
    "response = agent.create_turn(\n",
    "  messages=[{\"role\": \"user\", \"content\": prompt}],\n",
    "  session_id=session_id,\n",
    ")\n",
    "\n",
    "for log in AgentEventLogger().log(response):\n",
    "    log.print()"
   ]
  }
 ],
 "metadata": {
  "kernelspec": {
   "display_name": "venv",
   "language": "python",
   "name": "python3"
  },
  "language_info": {
   "codemirror_mode": {
    "name": "ipython",
    "version": 3
   },
   "file_extension": ".py",
   "mimetype": "text/x-python",
   "name": "python",
   "nbconvert_exporter": "python",
   "pygments_lexer": "ipython3",
   "version": "3.12.9"
  }
 },
 "nbformat": 4,
 "nbformat_minor": 5
}
